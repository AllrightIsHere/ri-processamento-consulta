{
 "cells": [
  {
   "cell_type": "markdown",
   "metadata": {},
   "source": [
    "# Relatório do Processamento de Consulta\n",
    "\n",
    "### Alunos:\n",
    "\n",
    "- Alexandre Luis Ribeiro Martins\n",
    "- Diego Santos Gonçalves\n",
    "- Gabriel Arrighi Silva"
   ]
  },
  {
   "cell_type": "code",
   "execution_count": 1,
   "metadata": {},
   "outputs": [
    {
     "name": "stdout",
     "output_type": "stream",
     "text": [
      "Existe o doc? index.hasDocId(105047)\n",
      "Precomputando valores atraves do indice...\n"
     ]
    },
    {
     "name": "stderr",
     "output_type": "stream",
     "text": [
      "  0%|          | 8/786915 [00:00<4:00:19, 54.57it/s]"
     ]
    },
    {
     "name": "stdout",
     "output_type": "stream",
     "text": [
      "Precomputou valores done in 1.782525\n"
     ]
    },
    {
     "name": "stderr",
     "output_type": "stream",
     "text": [
      "100%|██████████| 786915/786915 [01:58<00:00, 6648.97it/s]\n"
     ]
    },
    {
     "name": "stdout",
     "output_type": "stream",
     "text": [
      "===========================================\n",
      "Finalizando consultas. :)\n",
      "===========================================\n"
     ]
    }
   ],
   "source": [
    "from query.processing import QueryRunner\n",
    "\n",
    "QueryRunner.main()"
   ]
  },
  {
   "cell_type": "markdown",
   "metadata": {},
   "source": [
    "#### Análise a ocorrência de termos no documento fazendo, no mínimo:\n",
    "\n",
    " - Quais são os 10 termos com maior e menor IDF da coleção? Com base nos termos de menor IDF, será que podiamos propor stopwords novas? Com base nesses termos, existe algo que você poderia melhorar no processamento?\n"
   ]
  },
  {
   "cell_type": "code",
   "execution_count": 3,
   "metadata": {},
   "outputs": [
    {
     "name": "stdout",
     "output_type": "stream",
     "text": [
      "Top 10 melhores idf:\n",
      "1: (15.908181492953341, '��\\u200f')\n",
      "2: (15.908181492953341, '�c�û�û‹o‹ì+ëra‹å‰.–�œ�˜�a�‰v¸�vuÿv�')\n",
      "3: (15.908181492953341, '�')\n",
      "4: (15.908181492953341, '￥88,54')\n",
      "5: (15.908181492953341, '￥360,00')\n",
      "6: (15.908181492953341, '￥297,26')\n",
      "7: (15.908181492953341, '￥236,79')\n",
      "8: (15.908181492953341, '￥225,82')\n",
      "9: (15.908181492953341, '￥144,15')\n",
      "10: (15.908181492953341, '￥122,78')\n",
      "Top 10 piores idf:\n",
      "1: (0.061760655179727016, 'de')\n",
      "2: (0.19519781167858183, 'da')\n",
      "3: (0.34752026802547564, 'do')\n",
      "4: (0.3715700063275667, 'uma')\n",
      "5: (0.37494302713755256, 'com')\n",
      "6: (0.3827218577739812, 'categoria')\n",
      "7: (0.5331420616064177, 'em')\n",
      "8: (0.5478830663352967, 'o')\n",
      "9: (0.5934920471228493, 'um')\n",
      "10: (0.5981013003754387, 'por')\n"
     ]
    }
   ],
   "source": [
    "from query.ranking_models import IndexPreComputedVals\n",
    "\n",
    "IndexPreComputedVals.print_top_idf()"
   ]
  },
  {
   "cell_type": "markdown",
   "metadata": {},
   "source": [
    "#### Resposta:\n",
    "\n",
    " - #### Sim, poderiamos remover mais stopwords como 'de', 'da', 'do', 'uma', etc.\n",
    "\n",
    " - #### Sim, existe algo que poderiamos melhorar no processamento, como o tratamento de caracteres especiais inesperados e tratamento de unidades de medidas, como no caso das unidades monetárias."
   ]
  },
  {
   "cell_type": "markdown",
   "metadata": {},
   "source": [
    "- Apresente o gráfico de frequência das palavras. Tais palavras devem ser ordenadas decrescentemente de acordo com a sua frequência e devem ser todas representadas no eixo x. Note que a frequencia da palavra é a frequência total do termo na coleção (definido por F(termo) na aula sobre TF-IDF). De forma similar, faça o gráfico do IDF de cada palavra (veja o grafico similar na aula sobre TF-IDF). Mostra também, quais tipos de palavras (específicas? Erros de processamento?) possuem TF alto, mediano e baixo. Faça o mesmo para IDF. Note que esse grafico deve conter todas as palavras. Não é necessário apresentar todos os valores do eixo x (palavras), pois, ficaria difícil de visualizar. "
   ]
  },
  {
   "cell_type": "markdown",
   "metadata": {},
   "source": [
    "#### Term Frequency (TF)"
   ]
  },
  {
   "cell_type": "code",
   "execution_count": 4,
   "metadata": {},
   "outputs": [
    {
     "data": {
      "image/png": "[encoded data removed]",
      "text/plain": [
       "<Figure size 432x288 with 1 Axes>"
      ]
     },
     "metadata": {
      "needs_background": "light"
     },
     "output_type": "display_data"
    }
   ],
   "source": [
    "IndexPreComputedVals.plot_terms_freq()"
   ]
  },
  {
   "cell_type": "code",
   "execution_count": 5,
   "metadata": {},
   "outputs": [
    {
     "data": {
      "text/plain": [
       "[(2099982, 'de'),\n",
       " (874841, 'o'),\n",
       " (687745, 'do'),\n",
       " (632021, 'da'),\n",
       " (592431, 'semi'),\n",
       " (592166, 'em'),\n",
       " (493177, 'que'),\n",
       " (327682, 'com'),\n",
       " (309493, 'um'),\n",
       " (307357, 'uma')]"
      ]
     },
     "execution_count": 5,
     "metadata": {},
     "output_type": "execute_result"
    }
   ],
   "source": [
    "IndexPreComputedVals.term_freq_list[:10]"
   ]
  },
  {
   "cell_type": "code",
   "execution_count": 6,
   "metadata": {},
   "outputs": [
    {
     "data": {
      "image/png": "[encoded data removed]",
      "text/plain": [
       "<Figure size 432x288 with 1 Axes>"
      ]
     },
     "metadata": {
      "needs_background": "light"
     },
     "output_type": "display_data"
    }
   ],
   "source": [
    "import matplotlib.pyplot as plt\n",
    "import math\n",
    "\n",
    "x = [i for i in range(len(IndexPreComputedVals.term_freq_list))]\n",
    "y = [freq for freq, _ in IndexPreComputedVals.term_freq_list]\n",
    "_, ax = plt.subplots()\n",
    "\n",
    "ax.scatter(x, y)\n",
    "ax.set_yscale('log')\n",
    "\n",
    "plt.show()\n"
   ]
  },
  {
   "cell_type": "code",
   "execution_count": 7,
   "metadata": {},
   "outputs": [],
   "source": [
    "from query.ranking_models import VectorRankingModel\n",
    "\n",
    "tf = [(VectorRankingModel.tf(freq_term), term) for freq_term, term in IndexPreComputedVals.term_freq_list]"
   ]
  },
  {
   "cell_type": "markdown",
   "metadata": {},
   "source": [
    "#### Resposta\n",
    "Abaixo estão apresentados os 10 maiores TF, os 10 menores TF e os 10 TF medianos (considerando que 20 é o valor máximo, a mediana vai estar por volta do valor 10)"
   ]
  },
  {
   "cell_type": "code",
   "execution_count": 8,
   "metadata": {},
   "outputs": [
    {
     "data": {
      "text/plain": [
       "[(22.00194553120508, 'de'),\n",
       " (20.73866130926108, 'o'),\n",
       " (20.391514220426608, 'do'),\n",
       " (20.269612969694453, 'da'),\n",
       " (20.17628760860869, 'semi'),\n",
       " (20.175642133071925, 'em'),\n",
       " (19.91174599364295, 'que'),\n",
       " (19.321936900372215, 'com'),\n",
       " (19.23954725389415, 'um'),\n",
       " (19.229555816999518, 'uma')]"
      ]
     },
     "execution_count": 8,
     "metadata": {},
     "output_type": "execute_result"
    }
   ],
   "source": [
    "tf[:10]"
   ]
  },
  {
   "cell_type": "code",
   "execution_count": 9,
   "metadata": {},
   "outputs": [
    {
     "data": {
      "text/plain": [
       "[(1.0, '++max'),\n",
       " (1.0, '++gp'),\n",
       " (1.0, \"'t\"),\n",
       " (1.0, \"'patafisica\"),\n",
       " (1.0, \"'d\"),\n",
       " (1.0, \"'=f'+g\"),\n",
       " (1.0, \"'=c.f\"),\n",
       " (1.0, \"'=\"),\n",
       " (1.0, \"'87\\xad'93\"),\n",
       " (1.0, \"'66\\xad'67\")]"
      ]
     },
     "execution_count": 9,
     "metadata": {},
     "output_type": "execute_result"
    }
   ],
   "source": [
    "tf[-10:]"
   ]
  },
  {
   "cell_type": "code",
   "execution_count": 10,
   "metadata": {},
   "outputs": [
    {
     "data": {
      "text/plain": [
       "[(10.0, 'visitas'),\n",
       " (10.0, 'serio'),\n",
       " (10.0, 'seriado'),\n",
       " (10.0, 'privilegios'),\n",
       " (10.0, 'optica'),\n",
       " (10.0, 'misterio'),\n",
       " (10.0, 'liberalismo'),\n",
       " (10.0, 'corta'),\n",
       " (10.0, 'concedeu'),\n",
       " (10.0, 'acompanhar')]"
      ]
     },
     "execution_count": 10,
     "metadata": {},
     "output_type": "execute_result"
    }
   ],
   "source": [
    "mid = 0\n",
    "\n",
    "for i, (x, _) in enumerate(tf):\n",
    "    if x <= 10:\n",
    "        mid = i\n",
    "        break\n",
    "\n",
    "tf[mid:mid+10]"
   ]
  },
  {
   "cell_type": "markdown",
   "metadata": {},
   "source": [
    "Ao analisar esses TF, temos que:\n",
    "- TF altos são geralmente conectivos\n",
    "- TF baixos são geralmente erros ou termo de contextos muito específicos\n",
    "- TF médios são geralmente adjetivos, substantivos ou verbos"
   ]
  },
  {
   "cell_type": "markdown",
   "metadata": {},
   "source": [
    "#### Inverse Document Frequency (IDF)"
   ]
  },
  {
   "cell_type": "code",
   "execution_count": 11,
   "metadata": {},
   "outputs": [
    {
     "data": {
      "image/png": "[encoded data removed]",
      "text/plain": [
       "<Figure size 432x288 with 1 Axes>"
      ]
     },
     "metadata": {
      "needs_background": "light"
     },
     "output_type": "display_data"
    }
   ],
   "source": [
    "x = [i for i in range(len(VectorRankingModel.idf_list))]\n",
    "y = [i for i,_ in VectorRankingModel.idf_list]\n",
    "\n",
    "_, ax = plt.subplots()\n",
    "\n",
    "ax.scatter(x, y)\n",
    "#ax.set_xscale('log')\n",
    "\n",
    "plt.show()"
   ]
  },
  {
   "cell_type": "markdown",
   "metadata": {},
   "source": [
    "#### Resposta\n",
    "Abaixo estão apresentados os 10 maiores IDF, os 10 menores IDF e os 10 IDF medianos (considerando que agora 16 é o valor máximo de IDF, a mediana vai estar por volta do valor 8 )"
   ]
  },
  {
   "cell_type": "code",
   "execution_count": 13,
   "metadata": {},
   "outputs": [],
   "source": [
    "idf = VectorRankingModel.idf_list"
   ]
  },
  {
   "cell_type": "code",
   "execution_count": 16,
   "metadata": {},
   "outputs": [
    {
     "data": {
      "text/plain": [
       "[(15.908181492953341, '￥122,78'),\n",
       " (15.908181492953341, '￥144,15'),\n",
       " (15.908181492953341, '￥225,82'),\n",
       " (15.908181492953341, '￥236,79'),\n",
       " (15.908181492953341, '￥297,26'),\n",
       " (15.908181492953341, '￥360,00'),\n",
       " (15.908181492953341, '￥88,54'),\n",
       " (15.908181492953341, '�'),\n",
       " (15.908181492953341, '�c�û�û‹o‹ì+ëra‹å‰.–�œ�˜�a�‰v¸�vuÿv�'),\n",
       " (15.908181492953341, '��\\u200f')]"
      ]
     },
     "execution_count": 16,
     "metadata": {},
     "output_type": "execute_result"
    }
   ],
   "source": [
    "idf[-10:]"
   ]
  },
  {
   "cell_type": "code",
   "execution_count": 17,
   "metadata": {},
   "outputs": [
    {
     "data": {
      "text/plain": [
       "[(0.061760655179727016, 'de'),\n",
       " (0.19519781167858183, 'da'),\n",
       " (0.34752026802547564, 'do'),\n",
       " (0.3715700063275667, 'uma'),\n",
       " (0.37494302713755256, 'com'),\n",
       " (0.3827218577739812, 'categoria'),\n",
       " (0.5331420616064177, 'em'),\n",
       " (0.5478830663352967, 'o'),\n",
       " (0.5934920471228493, 'um'),\n",
       " (0.5981013003754387, 'por')]"
      ]
     },
     "execution_count": 17,
     "metadata": {},
     "output_type": "execute_result"
    }
   ],
   "source": [
    "idf[:10]"
   ]
  },
  {
   "cell_type": "code",
   "execution_count": 20,
   "metadata": {},
   "outputs": [
    {
     "data": {
      "text/plain": [
       "[(8.001290897344825, '2°'),\n",
       " (8.001290897344825, 'actualidade'),\n",
       " (8.001290897344825, 'adao'),\n",
       " (8.001290897344825, 'agenda'),\n",
       " (8.001290897344825, 'analogia'),\n",
       " (8.001290897344825, 'biblico'),\n",
       " (8.001290897344825, 'capturados'),\n",
       " (8.001290897344825, 'cartoes'),\n",
       " (8.001290897344825, 'cedro'),\n",
       " (8.001290897344825, 'chamaram')]"
      ]
     },
     "execution_count": 20,
     "metadata": {},
     "output_type": "execute_result"
    }
   ],
   "source": [
    "mid = 0\n",
    "\n",
    "for i, (x, _) in enumerate(idf):\n",
    "    if x >= 8:\n",
    "        mid = i\n",
    "        break\n",
    "\n",
    "idf[mid:mid+10]"
   ]
  },
  {
   "cell_type": "markdown",
   "metadata": {},
   "source": [
    "Neste caso, como esperado, temos uma relação inversa de valores do TF. Deste modo, temos que:\n",
    "- IDF altos representam termos com maior especifidade de uso, tal qual valores monetários japoneses, ou erros de escrita ou de processamento.\n",
    "- IDF baixos podem ser considerados Stopwords como artigos e conectivos.\n",
    "- OS IDF medianos, como no TF, normalmente representam substantivos, adjetivos e verbos."
   ]
  },
  {
   "cell_type": "markdown",
   "metadata": {},
   "source": [
    "#### Faça algumas consultas exemplos, mostrando o tempo de execução e o número de documentos retornados para cada consulta e para cada modelo implementado\n",
    "\n",
    "- Consultas realizadas:\n",
    "  - Dom Joaquim\n",
    "  - Serra do Cipó\n",
    "  - Nova York\n",
    "  \n",
    "##### Modelo Booleano - AND\n"
   ]
  },
  {
   "cell_type": "code",
   "execution_count": 14,
   "metadata": {},
   "outputs": [
    {
     "name": "stdout",
     "output_type": "stream",
     "text": [
      "Existe o doc? index.hasDocId(105047)\n",
      "Precomputando valores atraves do indice...\n"
     ]
    },
    {
     "name": "stderr",
     "output_type": "stream",
     "text": [
      "  0%|          | 8/786915 [00:00<3:51:18, 56.70it/s]"
     ]
    },
    {
     "name": "stdout",
     "output_type": "stream",
     "text": [
      "Precomputou valores done in 1.997806\n"
     ]
    },
    {
     "name": "stderr",
     "output_type": "stream",
     "text": [
      "100%|██████████| 786915/786915 [02:02<00:00, 6413.83it/s]\n"
     ]
    },
    {
     "name": "stdout",
     "output_type": "stream",
     "text": [
      "===========================================\n",
      "Fazendo query de 'Dom Joaquim'...\n",
      "Query Creation done in 6.405563\n",
      "anwered with 299 docs done in 0.16221\n",
      "Top 10 melhores respostas:\n",
      "1: 35331\n",
      "2: 37379\n",
      "3: 111620\n",
      "4: 33798\n",
      "5: 36359\n",
      "6: 11272\n",
      "7: 30218\n",
      "8: 44043\n",
      "9: 34828\n",
      "10: 37388\n",
      "\n",
      "\n",
      "Top 10 piores respostas\n",
      "1: 103935\n",
      "2: 33788\n",
      "3: 106995\n",
      "4: 68089\n",
      "5: 1528\n",
      "6: 37879\n",
      "7: 33781\n",
      "8: 33779\n",
      "9: 33265\n",
      "10: 32755\n",
      "===========================================\n",
      "===========================================\n",
      "Fazendo query de 'Serra do Cipó'...\n",
      "Query Creation done in 2.006126\n",
      "anwered with 44 docs done in 0.206998\n",
      "Top 10 melhores respostas:\n",
      "1: 32642\n",
      "2: 73478\n",
      "3: 35335\n",
      "4: 66318\n",
      "5: 32786\n",
      "6: 11284\n",
      "7: 15384\n",
      "8: 1178\n",
      "9: 33186\n",
      "10: 13475\n",
      "\n",
      "\n",
      "Top 10 piores respostas\n",
      "1: 25983\n",
      "2: 32636\n",
      "3: 29818\n",
      "4: 36728\n",
      "5: 32624\n",
      "6: 30319\n",
      "7: 32363\n",
      "8: 32235\n",
      "9: 31081\n",
      "10: 5220\n",
      "===========================================\n",
      "===========================================\n",
      "Fazendo query de 'Nova York'...\n",
      "Query Creation done in 6.502272\n",
      "anwered with 1251 docs done in 0.050638\n",
      "Top 10 melhores respostas:\n",
      "1: 57380\n",
      "2: 57382\n",
      "3: 57384\n",
      "4: 65588\n",
      "5: 24635\n",
      "6: 114766\n",
      "7: 57425\n",
      "8: 106581\n",
      "9: 122997\n",
      "10: 65655\n",
      "\n",
      "\n",
      "Top 10 piores respostas\n",
      "1: 131066\n",
      "2: 32755\n",
      "3: 57306\n",
      "4: 106455\n",
      "5: 57303\n",
      "6: 73685\n",
      "7: 40910\n",
      "8: 57278\n",
      "9: 24505\n",
      "10: 40884\n",
      "===========================================\n",
      "===========================================\n",
      "Finalizando consultas. :)\n",
      "===========================================\n"
     ]
    }
   ],
   "source": [
    "from query.processing import QueryRunner\n",
    "QueryRunner.main()"
   ]
  },
  {
   "cell_type": "markdown",
   "metadata": {},
   "source": [
    "##### Modelo Booleano - OR\n"
   ]
  },
  {
   "cell_type": "code",
   "execution_count": 15,
   "metadata": {},
   "outputs": [
    {
     "name": "stdout",
     "output_type": "stream",
     "text": [
      "Existe o doc? index.hasDocId(105047)\n",
      "Precomputando valores atraves do indice...\n"
     ]
    },
    {
     "name": "stderr",
     "output_type": "stream",
     "text": [
      "  0%|          | 0/786915 [00:00<?, ?it/s]"
     ]
    },
    {
     "name": "stdout",
     "output_type": "stream",
     "text": [
      "Precomputou valores done in 2.245089\n"
     ]
    },
    {
     "name": "stderr",
     "output_type": "stream",
     "text": [
      "100%|██████████| 786915/786915 [02:06<00:00, 6240.37it/s]\n"
     ]
    },
    {
     "name": "stdout",
     "output_type": "stream",
     "text": [
      "===========================================\n",
      "Fazendo query de 'Dom Joaquim'...\n",
      "Query Creation done in 3.238425\n",
      "anwered with 3000 docs done in 0.015727\n",
      "Top 10 melhores respostas:\n",
      "1: 49154\n",
      "2: 32772\n",
      "3: 32773\n",
      "4: 49159\n",
      "5: 32777\n",
      "6: 32778\n",
      "7: 122889\n",
      "8: 32783\n",
      "9: 16402\n",
      "10: 24596\n",
      "\n",
      "\n",
      "Top 10 piores respostas\n",
      "1: 32767\n",
      "2: 57341\n",
      "3: 73722\n",
      "4: 32757\n",
      "5: 32755\n",
      "6: 24563\n",
      "7: 32753\n",
      "8: 32747\n",
      "9: 24560\n",
      "10: 24559\n",
      "===========================================\n",
      "===========================================\n",
      "Fazendo query de 'Serra do Cipó'...\n",
      "Query Creation done in 3.356434\n",
      "anwered with 48389 docs done in 0.199677\n",
      "Top 10 melhores respostas:\n",
      "1: 131073\n",
      "2: 131074\n",
      "3: 131076\n",
      "4: 131085\n",
      "5: 131089\n",
      "6: 131093\n",
      "7: 131098\n",
      "8: 131099\n",
      "9: 131101\n",
      "10: 131111\n",
      "\n",
      "\n",
      "Top 10 piores respostas\n",
      "1: 131071\n",
      "2: 131068\n",
      "3: 131066\n",
      "4: 131063\n",
      "5: 131060\n",
      "6: 131053\n",
      "7: 131046\n",
      "8: 131040\n",
      "9: 131037\n",
      "10: 131036\n",
      "===========================================\n",
      "===========================================\n",
      "Fazendo query de 'Nova York'...\n",
      "Query Creation done in 3.690385\n",
      "anwered with 11586 docs done in 0.052266\n",
      "Top 10 melhores respostas:\n",
      "1: 32768\n",
      "2: 32769\n",
      "3: 131073\n",
      "4: 32783\n",
      "5: 32784\n",
      "6: 32785\n",
      "7: 32786\n",
      "8: 98324\n",
      "9: 32789\n",
      "10: 65558\n",
      "\n",
      "\n",
      "Top 10 piores respostas\n",
      "1: 32767\n",
      "2: 32765\n",
      "3: 65531\n",
      "4: 131066\n",
      "5: 32760\n",
      "6: 32757\n",
      "7: 32755\n",
      "8: 65517\n",
      "9: 32747\n",
      "10: 32744\n",
      "===========================================\n",
      "===========================================\n",
      "Finalizando consultas. :)\n",
      "===========================================\n"
     ]
    }
   ],
   "source": [
    "QueryRunner.main()"
   ]
  },
  {
   "cell_type": "markdown",
   "metadata": {},
   "source": [
    "##### Modelo Vetorial\n",
    "\n"
   ]
  },
  {
   "cell_type": "code",
   "execution_count": 17,
   "metadata": {},
   "outputs": [
    {
     "name": "stdout",
     "output_type": "stream",
     "text": [
      "Existe o doc? index.hasDocId(105047)\n",
      "Precomputando valores atraves do indice...\n"
     ]
    },
    {
     "name": "stderr",
     "output_type": "stream",
     "text": [
      "  0%|          | 8/786915 [00:00<4:16:07, 51.21it/s]"
     ]
    },
    {
     "name": "stdout",
     "output_type": "stream",
     "text": [
      "Precomputou valores done in 2.064047\n"
     ]
    },
    {
     "name": "stderr",
     "output_type": "stream",
     "text": [
      "100%|██████████| 786915/786915 [02:05<00:00, 6263.24it/s]\n"
     ]
    },
    {
     "name": "stdout",
     "output_type": "stream",
     "text": [
      "===========================================\n",
      "Fazendo query de 'Dom Joaquim'...\n",
      "Query Creation done in 2.037439\n",
      "anwered with 3000 docs done in 0.022927\n",
      "Top 10 melhores respostas:\n",
      "1: 32237\n",
      "2: 32682\n",
      "3: 119748\n",
      "4: 32235\n",
      "5: 33222\n",
      "6: 113490\n",
      "7: 34008\n",
      "8: 124343\n",
      "9: 73217\n",
      "10: 123480\n",
      "\n",
      "\n",
      "Top 10 piores respostas\n",
      "1: 45832\n",
      "2: 54962\n",
      "3: 19558\n",
      "4: 132785\n",
      "5: 8041\n",
      "6: 2638\n",
      "7: 83216\n",
      "8: 5220\n",
      "9: 43735\n",
      "10: 30714\n",
      "===========================================\n",
      "===========================================\n",
      "Fazendo query de 'Serra do Cipó'...\n",
      "Query Creation done in 1.834098\n",
      "anwered with 48389 docs done in 0.357116\n",
      "Top 10 melhores respostas:\n",
      "1: 33969\n",
      "2: 33529\n",
      "3: 32235\n",
      "4: 32363\n",
      "5: 126940\n",
      "6: 30211\n",
      "7: 30418\n",
      "8: 73478\n",
      "9: 33513\n",
      "10: 114679\n",
      "\n",
      "\n",
      "Top 10 piores respostas\n",
      "1: 71518\n",
      "2: 124024\n",
      "3: 13706\n",
      "4: 61660\n",
      "5: 108035\n",
      "6: 123620\n",
      "7: 83261\n",
      "8: 115472\n",
      "9: 106439\n",
      "10: 7332\n",
      "===========================================\n",
      "===========================================\n",
      "Fazendo query de 'Nova York'...\n",
      "Query Creation done in 1.755674\n",
      "anwered with 11586 docs done in 0.097682\n",
      "Top 10 melhores respostas:\n",
      "1: 126978\n",
      "2: 100187\n",
      "3: 42958\n",
      "4: 100194\n",
      "5: 122997\n",
      "6: 129185\n",
      "7: 132770\n",
      "8: 81849\n",
      "9: 81839\n",
      "10: 58241\n",
      "\n",
      "\n",
      "Top 10 piores respostas\n",
      "1: 88589\n",
      "2: 134498\n",
      "3: 96428\n",
      "4: 101785\n",
      "5: 109277\n",
      "6: 99832\n",
      "7: 13508\n",
      "8: 23742\n",
      "9: 54962\n",
      "10: 55122\n",
      "===========================================\n",
      "===========================================\n",
      "Finalizando consultas. :)\n",
      "===========================================\n"
     ]
    }
   ],
   "source": [
    "QueryRunner.main()\n"
   ]
  },
  {
   "cell_type": "markdown",
   "metadata": {},
   "source": [
    "#### Apresentação e discussão dos gráficos de avaliação (precisão e revocação @5, @10, @25, @50) do modelo vetorial\n",
    "- Consultas realizadas com os documentos relevantes já coletados:\n",
    "  - Irlanda\n",
    "  - Belo Horizonte\n",
    "  - São Paulo"
   ]
  },
  {
   "cell_type": "code",
   "execution_count": 1,
   "metadata": {},
   "outputs": [
    {
     "name": "stdout",
     "output_type": "stream",
     "text": [
      "Existe o doc? index.hasDocId(105047)\n",
      "Precomputando valores atraves do indice...\n"
     ]
    },
    {
     "name": "stderr",
     "output_type": "stream",
     "text": [
      "  0%|          | 0/786915 [00:00<?, ?it/s]"
     ]
    },
    {
     "name": "stdout",
     "output_type": "stream",
     "text": [
      "Precomputou valores done in 2.336143\n"
     ]
    },
    {
     "name": "stderr",
     "output_type": "stream",
     "text": [
      "100%|██████████| 786915/786915 [03:20<00:00, 3932.59it/s]\n"
     ]
    },
    {
     "name": "stdout",
     "output_type": "stream",
     "text": [
      "===========================================\n",
      "Fazendo query de 'Irlanda'...\n",
      "Query Creation done in 1.406791\n",
      "anwered with 766 docs done in 0.036712\n",
      "Precisao @5: 0.2\n",
      "Recall @5: 0.006896551724137931\n",
      "Precisao @10: 0.2\n",
      "Recall @10: 0.013793103448275862\n",
      "Precisao @25: 0.36\n",
      "Recall @25: 0.06206896551724138\n",
      "Precisao @50: 0.42\n",
      "Recall @50: 0.14482758620689656\n"
     ]
    },
    {
     "data": {
      "image/png": "[encoded data removed]",
      "text/plain": [
       "<Figure size 432x288 with 1 Axes>"
      ]
     },
     "metadata": {
      "needs_background": "light"
     },
     "output_type": "display_data"
    },
    {
     "data": {
      "image/png": "[encoded data removed]",
      "text/plain": [
       "<Figure size 432x288 with 1 Axes>"
      ]
     },
     "metadata": {
      "needs_background": "light"
     },
     "output_type": "display_data"
    },
    {
     "name": "stdout",
     "output_type": "stream",
     "text": [
      "Top 10 melhores respostas:\n",
      "1: 40089\n",
      "2: 39300\n",
      "3: 53322\n",
      "4: 35401\n",
      "5: 11696\n",
      "6: 43033\n",
      "7: 131369\n",
      "8: 58189\n",
      "9: 63292\n",
      "10: 115901\n",
      "\n",
      "\n",
      "Top 10 piores respostas\n",
      "1: 101785\n",
      "2: 47637\n",
      "3: 41801\n",
      "4: 108451\n",
      "5: 29856\n",
      "6: 117527\n",
      "7: 100480\n",
      "8: 24884\n",
      "9: 338\n",
      "10: 59577\n",
      "===========================================\n",
      "===========================================\n",
      "Fazendo query de 'Belo Horizonte'...\n",
      "Query Creation done in 1.951214\n",
      "anwered with 1947 docs done in 0.017369\n",
      "Precisao @5: 0.0\n",
      "Recall @5: 0.0\n",
      "Precisao @10: 0.1\n",
      "Recall @10: 0.012658227848101266\n",
      "Precisao @25: 0.12\n",
      "Recall @25: 0.0379746835443038\n",
      "Precisao @50: 0.12\n",
      "Recall @50: 0.0759493670886076\n"
     ]
    },
    {
     "data": {
      "image/png": "[encoded data removed]",
      "text/plain": [
       "<Figure size 432x288 with 1 Axes>"
      ]
     },
     "metadata": {
      "needs_background": "light"
     },
     "output_type": "display_data"
    },
    {
     "data": {
      "image/png": "[encoded data removed]",
      "text/plain": [
       "<Figure size 432x288 with 1 Axes>"
      ]
     },
     "metadata": {
      "needs_background": "light"
     },
     "output_type": "display_data"
    },
    {
     "name": "stdout",
     "output_type": "stream",
     "text": [
      "Top 10 melhores respostas:\n",
      "1: 91853\n",
      "2: 93107\n",
      "3: 91856\n",
      "4: 32118\n",
      "5: 32436\n",
      "6: 107302\n",
      "7: 105795\n",
      "8: 32682\n",
      "9: 32269\n",
      "10: 9931\n",
      "\n",
      "\n",
      "Top 10 piores respostas\n",
      "1: 129883\n",
      "2: 103158\n",
      "3: 97042\n",
      "4: 57536\n",
      "5: 67161\n",
      "6: 12060\n",
      "7: 56400\n",
      "8: 117527\n",
      "9: 49654\n",
      "10: 24618\n",
      "===========================================\n",
      "===========================================\n",
      "Fazendo query de 'São Paulo'...\n",
      "Query Creation done in 1.76268\n",
      "anwered with 26519 docs done in 0.182125\n",
      "Precisao @5: 0.0\n",
      "Recall @5: 0.0\n",
      "Precisao @10: 0.3\n",
      "Recall @10: 0.005454545454545455\n",
      "Precisao @25: 0.24\n",
      "Recall @25: 0.01090909090909091\n",
      "Precisao @50: 0.3\n",
      "Recall @50: 0.02727272727272727\n"
     ]
    },
    {
     "data": {
      "image/png": "[encoded data removed]",
      "text/plain": [
       "<Figure size 432x288 with 1 Axes>"
      ]
     },
     "metadata": {
      "needs_background": "light"
     },
     "output_type": "display_data"
    },
    {
     "data": {
      "image/png": "[encoded data removed]",
      "text/plain": [
       "<Figure size 432x288 with 1 Axes>"
      ]
     },
     "metadata": {
      "needs_background": "light"
     },
     "output_type": "display_data"
    },
    {
     "name": "stdout",
     "output_type": "stream",
     "text": [
      "Top 10 melhores respostas:\n",
      "1: 73731\n",
      "2: 63160\n",
      "3: 73702\n",
      "4: 73605\n",
      "5: 24070\n",
      "6: 55480\n",
      "7: 61441\n",
      "8: 24734\n",
      "9: 18489\n",
      "10: 45081\n",
      "\n",
      "\n",
      "Top 10 piores respostas\n",
      "1: 18588\n",
      "2: 59158\n",
      "3: 119216\n",
      "4: 43735\n",
      "5: 133178\n",
      "6: 65517\n",
      "7: 58210\n",
      "8: 682\n",
      "9: 107230\n",
      "10: 124266\n",
      "===========================================\n",
      "===========================================\n",
      "Finalizando consultas. :)\n",
      "===========================================\n"
     ]
    }
   ],
   "source": [
    "from query.processing import QueryRunner\n",
    "\n",
    "QueryRunner.main()"
   ]
  },
  {
   "cell_type": "markdown",
   "metadata": {},
   "source": [
    "#### Análise dos gráficos gerados\n",
    "Analisando os gráficos é possível perceber que, para todas as consultas realizadas, obteve-se uma baixa precisão e revocação com os documentos relevantes utilizados na pesquisa. A precisão teve melhores resultados do que a revocação e a melhor consulta feita foi para a query \"irlanda\".\n",
    "\n",
    "Isso pode nos indicar duas possibilidades. A primeira é que o algoritmo utilizado para o Modelo Vetorial necessita de melhorias para aumentar o valor dessas métricas. A outra possibilidade é que o problema possa estar no algoritmo utilizado para busca dos documentos relevantes não estar, sendo que este possa não ter sido utilizado de forma adequada."
   ]
  }
 ],
 "metadata": {
  "kernelspec": {
   "display_name": "Python 3.8.3 64-bit",
   "language": "python",
   "name": "python3"
  },
  "language_info": {
   "codemirror_mode": {
    "name": "ipython",
    "version": 3
   },
   "file_extension": ".py",
   "mimetype": "text/x-python",
   "name": "python",
   "nbconvert_exporter": "python",
   "pygments_lexer": "ipython3",
   "version": "3.8.3"
  },
  "orig_nbformat": 4,
  "vscode": {
   "interpreter": {
    "hash": "43694f8278121c774a392ac4e3d3685bb4eaaf74f249810dcc8c330b59cc5f6d"
   }
  }
 },
 "nbformat": 4,
 "nbformat_minor": 2
}
