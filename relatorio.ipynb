{
 "cells": [
  {
   "cell_type": "markdown",
   "metadata": {},
   "source": [
    "# Relatório do Processamento de Consulta\n",
    "\n",
    "## Alunos:\n",
    "\n",
    "### Alexandre Luis Ribeiro Martins\n",
    "### Diego Santos Gonçalves\n",
    "### Gabriel Arrighi Silva"
   ]
  },
  {
   "cell_type": "code",
   "execution_count": 1,
   "metadata": {},
   "outputs": [
    {
     "name": "stdout",
     "output_type": "stream",
     "text": [
      "Existe o doc? index.hasDocId(105047)\n",
      "Precomputando valores atraves do indice...\n",
      "Precomputou valores done in 1.738778\n"
     ]
    },
    {
     "name": "stderr",
     "output_type": "stream",
     "text": [
      "100%|██████████| 786915/786915 [01:57<00:00, 6692.02it/s] \n"
     ]
    },
    {
     "name": "stdout",
     "output_type": "stream",
     "text": [
      "===========================================\n",
      "Finalizando consultas. :)\n",
      "===========================================\n"
     ]
    }
   ],
   "source": [
    "from query.processing import QueryRunner\n",
    "\n",
    "QueryRunner.main()"
   ]
  },
  {
   "cell_type": "markdown",
   "metadata": {},
   "source": [
    "### Análise a ocorrência de termos no documento fazendo, no mínimo:\n",
    "\n",
    " - Quais são os 10 termos com maior e menor IDF da coleção? Com base nos termos de menor IDF, será que podiamos propor stopwords novas? Com base nesses termos, existe algo que você poderia melhorar no processamento?\n"
   ]
  },
  {
   "cell_type": "code",
   "execution_count": 2,
   "metadata": {},
   "outputs": [
    {
     "name": "stdout",
     "output_type": "stream",
     "text": [
      "Top 10 melhores idf:\n",
      "1: (15.908181492953341, '��\\u200f')\n",
      "2: (15.908181492953341, '�c�û�û‹o‹ì+ëra‹å‰.–�œ�˜�a�‰v¸�vuÿv�')\n",
      "3: (15.908181492953341, '�')\n",
      "4: (15.908181492953341, '￥88,54')\n",
      "5: (15.908181492953341, '￥360,00')\n",
      "6: (15.908181492953341, '￥297,26')\n",
      "7: (15.908181492953341, '￥236,79')\n",
      "8: (15.908181492953341, '￥225,82')\n",
      "9: (15.908181492953341, '￥144,15')\n",
      "10: (15.908181492953341, '￥122,78')\n",
      "Top 10 piores idf:\n",
      "1: (0.061760655179727016, 'de')\n",
      "2: (0.19519781167858183, 'da')\n",
      "3: (0.34752026802547564, 'do')\n",
      "4: (0.3715700063275667, 'uma')\n",
      "5: (0.37494302713755256, 'com')\n",
      "6: (0.3827218577739812, 'categoria')\n",
      "7: (0.5331420616064177, 'em')\n",
      "8: (0.5478830663352967, 'o')\n",
      "9: (0.5934920471228493, 'um')\n",
      "10: (0.5981013003754387, 'por')\n"
     ]
    }
   ],
   "source": [
    "from query.ranking_models import IndexPreComputedVals\n",
    "\n",
    "IndexPreComputedVals.print_top_idf()"
   ]
  },
  {
   "cell_type": "markdown",
   "metadata": {},
   "source": [
    "### Resposta:\n",
    "\n",
    " - ### Sim, poderiamos remover mais stopwords como 'de', 'da', 'do', 'uma', etc.\n",
    "\n",
    " - ### Sim, existe algo que poderiamos melhorar no processamento, como o tratamento de caracteres especiais inesperados e tratamento de unidades de medidas, como no caso das unidades monetárias."
   ]
  },
  {
   "cell_type": "markdown",
   "metadata": {},
   "source": [
    "- Apresente o gráfico de frequência das palavras. Tais palavras devem ser ordenadas decrescentemente de acordo com a sua frequência e devem ser todas representadas no eixo x. Note que a frequencia da palavra é a frequência total do termo na coleção (definido por F(termo) na aula sobre TF-IDF). De forma similar, faça o gráfico do IDF de cada palavra (veja o grafico similar na aula sobre TF-IDF). Mostra também, quais tipos de palavras (específicas? Erros de processamento?) possuem TF alto, mediano e baixo. Faça o mesmo para IDF. Note que esse grafico deve conter todas as palavras. Não é necessário apresentar todos os valores do eixo x (palavras), pois, ficaria difícil de visualizar. "
   ]
  },
  {
   "cell_type": "code",
   "execution_count": 3,
   "metadata": {},
   "outputs": [
    {
     "name": "stdout",
     "output_type": "stream",
     "text": [
      "[2099982, 874841, 687745, 632021, 592431, 592166, 493177, 327682, 309493, 307357]\n"
     ]
    },
    {
     "data": {
      "image/png": "[encoded data removed]",
      "text/plain": [
       "<Figure size 432x288 with 1 Axes>"
      ]
     },
     "metadata": {
      "needs_background": "light"
     },
     "output_type": "display_data"
    }
   ],
   "source": [
    "IndexPreComputedVals.plot_terms_freq()"
   ]
  },
  {
   "cell_type": "code",
   "execution_count": 4,
   "metadata": {},
   "outputs": [
    {
     "data": {
      "text/plain": [
       "[(2099982, 'de'),\n",
       " (874841, 'o'),\n",
       " (687745, 'do'),\n",
       " (632021, 'da'),\n",
       " (592431, 'semi'),\n",
       " (592166, 'em'),\n",
       " (493177, 'que'),\n",
       " (327682, 'com'),\n",
       " (309493, 'um'),\n",
       " (307357, 'uma')]"
      ]
     },
     "execution_count": 4,
     "metadata": {},
     "output_type": "execute_result"
    }
   ],
   "source": [
    "IndexPreComputedVals.term_freq_list[:10]"
   ]
  },
  {
   "cell_type": "code",
   "execution_count": 44,
   "metadata": {},
   "outputs": [
    {
     "data": {
      "image/png": "[encoded data removed]",
      "text/plain": [
       "<Figure size 432x288 with 1 Axes>"
      ]
     },
     "metadata": {
      "needs_background": "light"
     },
     "output_type": "display_data"
    }
   ],
   "source": [
    "import matplotlib.pyplot as plt\n",
    "import math\n",
    "\n",
    "x = [i for i in range(len(IndexPreComputedVals.term_freq_list))]\n",
    "y = [freq for freq, _ in IndexPreComputedVals.term_freq_list]\n",
    "_, ax = plt.subplots()\n",
    "\n",
    "ax.scatter(x, y)\n",
    "ax.set_xscale('log')\n",
    "\n",
    "plt.show()\n"
   ]
  },
  {
   "cell_type": "code",
   "execution_count": 26,
   "metadata": {},
   "outputs": [],
   "source": [
    "from query.ranking_models import VectorRankingModel\n",
    "\n",
    "tf = [(VectorRankingModel.tf(freq_term), term) for freq_term, term in IndexPreComputedVals.term_freq_list]"
   ]
  },
  {
   "cell_type": "markdown",
   "metadata": {},
   "source": []
  },
  {
   "cell_type": "code",
   "execution_count": 27,
   "metadata": {},
   "outputs": [
    {
     "data": {
      "text/plain": [
       "[(22.00194553120508, 'de'),\n",
       " (20.73866130926108, 'o'),\n",
       " (20.391514220426608, 'do'),\n",
       " (20.269612969694453, 'da'),\n",
       " (20.17628760860869, 'semi'),\n",
       " (20.175642133071925, 'em'),\n",
       " (19.91174599364295, 'que'),\n",
       " (19.321936900372215, 'com'),\n",
       " (19.23954725389415, 'um'),\n",
       " (19.229555816999518, 'uma')]"
      ]
     },
     "execution_count": 27,
     "metadata": {},
     "output_type": "execute_result"
    }
   ],
   "source": [
    "tf[:10]"
   ]
  },
  {
   "cell_type": "code",
   "execution_count": 28,
   "metadata": {},
   "outputs": [
    {
     "data": {
      "text/plain": [
       "[(1.0, '++max'),\n",
       " (1.0, '++gp'),\n",
       " (1.0, \"'t\"),\n",
       " (1.0, \"'patafisica\"),\n",
       " (1.0, \"'d\"),\n",
       " (1.0, \"'=f'+g\"),\n",
       " (1.0, \"'=c.f\"),\n",
       " (1.0, \"'=\"),\n",
       " (1.0, \"'87\\xad'93\"),\n",
       " (1.0, \"'66\\xad'67\")]"
      ]
     },
     "execution_count": 28,
     "metadata": {},
     "output_type": "execute_result"
    }
   ],
   "source": [
    "tf[-10:]"
   ]
  },
  {
   "cell_type": "code",
   "execution_count": 37,
   "metadata": {},
   "outputs": [
    {
     "data": {
      "text/plain": [
       "[(10.0, 'visitas'),\n",
       " (10.0, 'serio'),\n",
       " (10.0, 'seriado'),\n",
       " (10.0, 'privilegios'),\n",
       " (10.0, 'optica'),\n",
       " (10.0, 'misterio'),\n",
       " (10.0, 'liberalismo'),\n",
       " (10.0, 'corta'),\n",
       " (10.0, 'concedeu'),\n",
       " (10.0, 'acompanhar')]"
      ]
     },
     "execution_count": 37,
     "metadata": {},
     "output_type": "execute_result"
    }
   ],
   "source": [
    "mid = 0\n",
    "\n",
    "for i, (x, _) in enumerate(tf):\n",
    "    if x <= 10:\n",
    "        mid = i\n",
    "        break\n",
    "\n",
    "tf[mid:mid+10]"
   ]
  },
  {
   "cell_type": "code",
   "execution_count": null,
   "metadata": {},
   "outputs": [],
   "source": []
  },
  {
   "cell_type": "markdown",
   "metadata": {},
   "source": [
    "- TF altos são geralmente conectivos\n",
    "- TF baixos são geralmente erros ou termo de contextos muito específicos\n",
    "- TF médios são geralmente adjetivos, substantivos ou verbos"
   ]
  },
  {
   "cell_type": "code",
   "execution_count": 43,
   "metadata": {},
   "outputs": [
    {
     "data": {
      "image/png": "[encoded data removed]",
      "text/plain": [
       "<Figure size 432x288 with 1 Axes>"
      ]
     },
     "metadata": {
      "needs_background": "light"
     },
     "output_type": "display_data"
    }
   ],
   "source": [
    "x = [i for i in range(len(VectorRankingModel.idf_list))]\n",
    "y = [i for i,_ in VectorRankingModel.idf_list]\n",
    "\n",
    "_, ax = plt.subplots()\n",
    "\n",
    "ax.scatter(x, y)\n",
    "ax.set_xscale('log')\n",
    "\n",
    "plt.show()"
   ]
  },
  {
   "cell_type": "code",
   "execution_count": null,
   "metadata": {},
   "outputs": [],
   "source": []
  }
 ],
 "metadata": {
  "kernelspec": {
   "display_name": "Python 3.8.10 64-bit",
   "language": "python",
   "name": "python3"
  },
  "language_info": {
   "codemirror_mode": {
    "name": "ipython",
    "version": 3
   },
   "file_extension": ".py",
   "mimetype": "text/x-python",
   "name": "python",
   "nbconvert_exporter": "python",
   "pygments_lexer": "ipython3",
   "version": "3.8.10"
  },
  "orig_nbformat": 4,
  "vscode": {
   "interpreter": {
    "hash": "916dbcbb3f70747c44a77c7bcd40155683ae19c65e1c03b4aa3499c5328201f1"
   }
  }
 },
 "nbformat": 4,
 "nbformat_minor": 2
}
